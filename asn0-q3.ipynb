{
 "cells": [
  {
   "cell_type": "markdown",
   "metadata": {
    "collapsed": true
   },
   "source": [
    "#Question 3"
   ]
  },
  {
   "cell_type": "markdown",
   "metadata": {},
   "source": [
    "In this question we'll learn some more ways to manipulate images and display the results using what we learned in questions 1 and 2.  In particular we'll use slicing of numpy arrays to extract parts of an image and use logical indexing of numpy arrays to select pixels of an image, and change their values.  Slicing and logical indexing are covered in the CMPT 141 textbook in section 13.3.3 and 13.3.7 respectively.\n",
    "\n",
    "We'll also practice using subplots (Section 2.7 in the assignment document)."
   ]
  },
  {
   "cell_type": "code",
   "execution_count": 1,
   "metadata": {},
   "outputs": [],
   "source": [
    "%matplotlib inline\n",
    "\n",
    "import skimage.io as io\n",
    "import matplotlib.pyplot as plt\n",
    "import skimage.color as color\n",
    "import skimage.util as util\n",
    "import skimage.exposure as exp\n",
    "import numpy as np\n",
    "\n",
    "# Set the default colourmap for imshow() \n",
    "plt.rcParams['image.cmap'] = 'gray'\n",
    "    \n",
    "# TODO: Load the parrot.png image, convert it to grayscale, and convert its data type to float.\n",
    "\n",
    "\n",
    "# TODO: Display the parrot image in a figure (remember to suppress normalization using vmin and vmax!).\n",
    "\n",
    "\n",
    "# TODO: Display the four quadrants of the original grayscale parrot image separately using array slicing.  \n",
    "# Each quandrant should be displayed in a different subplot of a 2 by 2 grid of subplots.\n",
    "# Subplots are discussed in the assignment document in section 2.7.\n",
    "\n",
    "\n",
    "# TODO: Use logical indexing to create a new image in which each pixel of the original image with\n",
    "# graylevel <= 0.5 is set to 0.0, and all other pixels are set to 1.0.  Then display the resulting\n",
    "# black and white image.\n",
    "# \n",
    "# If you're thinking of using a loop here, you're thinking about it wrong! The whole point of \n",
    "# logical indexing is to avoid loops.  Hint: you can use numpy.copy() to make a copy \n",
    "# of an image array."
   ]
  },
  {
   "cell_type": "code",
   "execution_count": null,
   "metadata": {},
   "outputs": [],
   "source": [
    ""
   ]
  }
 ],
 "metadata": {
  "kernelspec": {
   "display_name": "Python 2",
   "language": "python",
   "name": "python2"
  },
  "language_info": {
   "codemirror_mode": {
    "name": "ipython",
    "version": 2
   },
   "file_extension": ".py",
   "mimetype": "text/x-python",
   "name": "python",
   "nbconvert_exporter": "python",
   "pygments_lexer": "ipython2",
   "version": "2.7.6"
  }
 },
 "nbformat": 4,
 "nbformat_minor": 0
}
