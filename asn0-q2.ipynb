{
 "cells": [
  {
   "cell_type": "heading",
   "metadata": {
    "collapsed": true
   },
   "level": 1,
   "source": [
    "Question 2"
   ]
  },
  {
   "cell_type": "markdown",
   "metadata": {},
   "source": [
    "In this question we will:\n",
    "\n",
    "* Learn about different types of 2D plots\n",
    "\t* line plot\n",
    "\t* scatter plot\n",
    "\t* bar plot\n",
    "* Learn how to manipulate the appearance of plots.\n",
    "* Learn how to annotate plots\n",
    "\t* titles\n",
    "\t* axes limits\n",
    "\t* legends\n",
    "\t* line and point styles\n",
    "\n",
    "\n"
   ]
  },
  {
   "cell_type": "markdown",
   "metadata": {},
   "source": [
    "**Line Plots**\n",
    "\n",
    "Line plots require a list of x coordinates, and a list of the corresponding y coordinates.  These lists are then provided to the `matplotlib.pyplot.plot()` function.  \n",
    "\n",
    "To try this out, we first need some data to plot.  For this we'll just generate some x and y coordinates for a sine wave.  This code is provided below. \n",
    "\n",
    "**To begin, follow the instructions in the code comments marked with TODO.**"
   ]
  },
  {
   "cell_type": "code",
   "execution_count": 1,
   "metadata": {},
   "outputs": [],
   "source": [
    "# Boilerplate imports\n",
    "%matplotlib inline  \n",
    "\n",
    "import skimage.io as io\n",
    "import matplotlib.pyplot as plt\n",
    "import numpy as np\n",
    "from math import pi\n",
    "\n",
    "# Make points for a sine wave.\n",
    "x = np.arange(0, 2*pi, step=0.01 )\n",
    "y = np.sin(4*x)\n",
    "\n",
    "# TODO Plot the sine wave using plt.plot().  Pass arguments\n",
    "# x and y.  If you've done this right, you should see four cycles of a\n",
    "# sine wave appear below this block."
   ]
  },
  {
   "cell_type": "markdown",
   "metadata": {},
   "source": [
    "That's all you need to for basic plotting.  Of course the graph doesn't look that great, so we'll now have you investigate some other matplotlib functions to make it look more spiffy.   Complete the following steps in the code block below (make sure to run the above code block first!).  First, re-plot the graph above in a new figure, then do the following:\n",
    "\n",
    "1. Look up the `matplotlib.pyplot.title()` function.  Use it to add the title \"A 4Hz Sine Wave\" to the plot\n",
    "2. The sine wave butts up against the edges of the graph. Look up the `matplotlib.pyplot.ylim()` function and use it to set the y-axis to have a range between -1.1 and 1.1.  Also use `matplotlib.pyplot.xlim()` to set the x-axis to have a range betwen -pi/4 and 9pi/4.\n",
    "3. Calling `plot()` again with the same current axis will overlay the new plot on the old plot.  Call `plot()` again, using the existing x coordinates, and ``np.sin(7x)`` as the y-coodinate to plot a 7-Hz sine wave. \n",
    "4. Look up the `matplotlib.pyplot.plot()` function and find out what additional arguments you need to add to the plot function call in step 3 to have the new plot appear as a dashed red line.  Add these arguments to the existing call.\n",
    "5. Look up the plt.legend() function.  Use it to add a legend that labels the blue plot as \"4hz\" and the dashed red plot as \"7Hz\"."
   ]
  },
  {
   "cell_type": "code",
   "execution_count": 2,
   "metadata": {},
   "outputs": [
    {
     "data": {
      "text/plain": [
       "<Figure size 432x288 with 0 Axes>"
      ]
     },
     "execution_count": 2,
     "metadata": {},
     "output_type": "execute_result"
    },
    {
     "data": {
      "text/plain": [
       "<Figure size 432x288 with 0 Axes>"
      ]
     },
     "execution_count": 0,
     "metadata": {},
     "output_type": "execute_result"
    }
   ],
   "source": [
    "plt.figure()\n",
    "\n",
    "# TODO Replot the graph from above, then perform the numbered actions listed above."
   ]
  },
  {
   "cell_type": "markdown",
   "metadata": {},
   "source": [
    "**Scatter Plots**\n",
    "\n",
    "Let's explore scatter plots.   A scatter plot just plots a set of points within the axes with no lines connecting the points.\n",
    "\n",
    "For this datset we'll use the Iris dataset in the `sklearn.data` module.  150 iris flowers (from 3 different species) were measured, and 4 values were stored:  sepial length, sepial width, petal length and petal width.  We also know which samples belong to which species.\n",
    " \n",
    "We've loaded the dataset for you and separated it into useful variables in the code block below.  Each variable, `speciesXsamples`, X=1,2,3, is an array with 4 columns.  Each row is the measurement of one flower from that species.  The first two columns of each array are the measurements of sepial length and width respectively.  The third and fourth columns of each array are petal length and width.  Do the following under the TODO comment:\n",
    "\n",
    "1. Use `the matplotlib.pyplot.scatter()` function to create a scatter plot for each species of sepial length vs sepial width.  All three scatter plots should be on the same axes.  The `scatter()` function works much like the `plot()` function in that it expects lists of x and y coordinates as required parameters.  For each species, use its sepial lengths as the x-coordinates and sepial widths as the y-coordinates (you'll have to slice the arrays appropriately to get the desired columns).\n",
    "2. Make the points for the scatter plot for species 1 red.  Make the points for species 2 green and the points for species 3 blue.  This can be done with optional arguments to `scatter()` (look it up!).\n",
    "3. Make the points (also called \"markers\") for species 2, triangles instead of circles.  For species 3 make them squares.  Again, this can be done with optional arguments to `scatter()` (look it up!).\n",
    "4. Look up the `matplotlib.plt.xlabel()` and `matplotlib.plt.ylabel()` functions.  Use them to label the x-axis with the string \"Sepial Length\" and the y-axis with the string \"Sepial Width\".\n",
    "5. Put an appropriate title on the graph.\n",
    "6. Make the plot a little bigger by adding the argument `figsize=(8,6)` to the call to ``plt.figure()``"
   ]
  },
  {
   "cell_type": "code",
   "execution_count": 3,
   "metadata": {},
   "outputs": [],
   "source": [
    "# Load the Iris dataset\n",
    "from sklearn import datasets\n",
    "\n",
    "iris = datasets.load_iris()\n",
    "species1samples = iris.data[iris.target==0, :]\n",
    "species2samples = iris.data[iris.target==1, :]\n",
    "species3samples = iris.data[iris.target==2, :]\n",
    "\n",
    "# TODO: Make a coloured scatter plot of sepial length vs sepial width using plt.scatter()"
   ]
  },
  {
   "cell_type": "markdown",
   "metadata": {},
   "source": [
    "**Bar Plots**\n",
    "\n",
    "The `matplotlib.pyplot.bar()` function works similarly to `plot()` and `scatter()`.  The first argument is a list of x-coordinates and the second argument is a list of y-coordiantes which are interpreted as bar heights.  A bar of the specified hight is drawn at each x-coordinate.  The bottom-right corner of each bar is positioned on the provided x-coordinate.  The width of the bar can be specified by providing the optional `width` arguemnt to `bar()`.  e.g. to use a bar width of 0.5, pass the arguemnt `width=0.5` to `bar()`. \n",
    "\n",
    "Using the previously loaded Iris data, do the following:\n",
    "\n",
    "1. calculate the average sepial length for each species, and plot the three averages on a bar graph. Hint: you can calculate the average of the values in an array with the `numpy.mean()` function.  Use a bar width of 0.5 and choose the x-coordinates carefully so that the bars are *centered* on x-coordiantes 0.5, 1.5 and 2.5.\n",
    "2. Give the graph an appropriate title and put appropriate labels on the y-axis.  \n",
    "3. Use the `matplotlib.pyplot.xticks()` function to put a labels \"Species 1\", \"Species 2\", and \"Species 3\" under the appropriate bars (look it up!).  Again, choose the x-coordinates carefully so that the labels are centered under the bars.\n",
    "\n",
    "\n"
   ]
  },
  {
   "cell_type": "code",
   "execution_count": 4,
   "metadata": {},
   "outputs": [],
   "source": [
    "# TODO Follow the instructions in the previous block."
   ]
  }
 ],
 "metadata": {
  "kernelspec": {
   "display_name": "Python 2",
   "language": "python",
   "name": "python2"
  },
  "language_info": {
   "codemirror_mode": {
    "name": "ipython",
    "version": 2
   },
   "file_extension": ".py",
   "mimetype": "text/x-python",
   "name": "python",
   "nbconvert_exporter": "python",
   "pygments_lexer": "ipython2",
   "version": "2.7.6"
  }
 },
 "nbformat": 4,
 "nbformat_minor": 0
}
